{
  "nbformat": 4,
  "nbformat_minor": 0,
  "metadata": {
    "colab": {
      "name": "SRP Project.ipynb",
      "provenance": [],
      "collapsed_sections": [],
      "include_colab_link": true
    },
    "kernelspec": {
      "name": "python3",
      "display_name": "Python 3"
    }
  },
  "cells": [
    {
      "cell_type": "markdown",
      "metadata": {
        "id": "view-in-github",
        "colab_type": "text"
      },
      "source": [
        "<a href=\"https://colab.research.google.com/github/Faiir/SRP-Hildesheim2021/blob/main/SRP_Project.ipynb\" target=\"_parent\"><img src=\"https://colab.research.google.com/assets/colab-badge.svg\" alt=\"Open In Colab\"/></a>"
      ]
    },
    {
      "cell_type": "code",
      "metadata": {
        "id": "0JvU_bzNs-Vh"
      },
      "source": [
        "import numpy as np\n",
        "import pandas as pd"
      ],
      "execution_count": null,
      "outputs": []
    },
    {
      "cell_type": "code",
      "metadata": {
        "id": "lIBZzOZ4tYMK"
      },
      "source": [
        "test=np.array([1,2,3,4,5])\n",
        "test2=np.array([4,2,6,4,10])"
      ],
      "execution_count": null,
      "outputs": []
    },
    {
      "cell_type": "code",
      "metadata": {
        "id": "P2pcBgKgtdix",
        "colab": {
          "base_uri": "https://localhost:8080/"
        },
        "outputId": "fa0660d9-53e6-42c1-eec0-fe4113ff0920"
      },
      "source": [
        "print(test2)"
      ],
      "execution_count": null,
      "outputs": [
        {
          "output_type": "stream",
          "text": [
            "[ 4  2  6  4 10]\n"
          ],
          "name": "stdout"
        }
      ]
    },
    {
      "cell_type": "code",
      "metadata": {
        "id": "lypubuKIteUh",
        "colab": {
          "base_uri": "https://localhost:8080/"
        },
        "outputId": "7038d3dd-4764-42c3-b3ef-b035a53b0274"
      },
      "source": [
        "print(\"Good luck!\")"
      ],
      "execution_count": null,
      "outputs": [
        {
          "output_type": "stream",
          "text": [
            "Good luck!\n"
          ],
          "name": "stdout"
        }
      ]
    },
    {
      "cell_type": "code",
      "metadata": {
        "id": "fJWWblcuy9FE",
        "colab": {
          "base_uri": "https://localhost:8080/"
        },
        "outputId": "37d76a90-a076-42de-f9d5-7b30c906e627"
      },
      "source": [
        "!git init\n"
      ],
      "execution_count": 2,
      "outputs": [
        {
          "output_type": "stream",
          "text": [
            "Initialized empty Git repository in /content/.git/\n"
          ],
          "name": "stdout"
        }
      ]
    },
    {
      "cell_type": "code",
      "metadata": {
        "id": "Wz10LcpZzVsI"
      },
      "source": [
        "!git add ."
      ],
      "execution_count": 3,
      "outputs": []
    },
    {
      "cell_type": "code",
      "metadata": {
        "id": "f5D6jYJMB0CV"
      },
      "source": [
        "!git remote add colab_script https://github.com/Faiir/SRP-Hildesheim2021.git"
      ],
      "execution_count": 6,
      "outputs": []
    },
    {
      "cell_type": "code",
      "metadata": {
        "colab": {
          "base_uri": "https://localhost:8080/"
        },
        "id": "ixAJqpLeB13T",
        "outputId": "24ec02a7-0670-4ce0-fe77-786168e7e626"
      },
      "source": [
        "!git push --set-upstream https://github.com/Faiir/SRP-Hildesheim2021.git master"
      ],
      "execution_count": 10,
      "outputs": [
        {
          "output_type": "stream",
          "text": [
            "error: src refspec master does not match any.\n",
            "error: failed to push some refs to 'https://github.com/Faiir/SRP-Hildesheim2021.git'\n"
          ],
          "name": "stdout"
        }
      ]
    },
    {
      "cell_type": "code",
      "metadata": {
        "id": "IgcKOeApCoDg"
      },
      "source": [
        ""
      ],
      "execution_count": null,
      "outputs": []
    }
  ]
}